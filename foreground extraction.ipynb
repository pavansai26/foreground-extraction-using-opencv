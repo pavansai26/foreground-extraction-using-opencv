{
 "cells": [
  {
   "cell_type": "code",
   "execution_count": 2,
   "metadata": {},
   "outputs": [],
   "source": [
    "import cv2\n",
    "import numpy as np"
   ]
  },
  {
   "cell_type": "code",
   "execution_count": null,
   "metadata": {},
   "outputs": [],
   "source": [
    "cap=cv2.VideoCapture(0)\n",
    "panel=np.zeros([100,700,3],np.uint8)\n",
    "cv2.namedWindow('panel')\n",
    "def nothing(x):\n",
    "    pass\n",
    "cv2.createTrackbar('L - h', 'panel',0,179,nothing)\n",
    "cv2.createTrackbar('U - h', 'panel',179,179,nothing)\n",
    "\n",
    "cv2.createTrackbar('L - s', 'panel',0,255,nothing)\n",
    "cv2.createTrackbar('U - s', 'panel',255,255,nothing)\n",
    "\n",
    "cv2.createTrackbar('L - v', 'panel',0,255,nothing)\n",
    "cv2.createTrackbar('U - v', 'panel',255,255,nothing)\n",
    "\n",
    "\n",
    "\n",
    "while True:\n",
    "    ha,frame= cap.read()\n",
    "    hsv=cv2.cvtColor(frame,cv2.COLOR_BGR2HSV)\n",
    "    \n",
    "    l_h = cv2.getTrackbarPos('L - h', 'panel')\n",
    "    u_h = cv2.getTrackbarPos('U - h', 'panel')\n",
    "    l_s = cv2.getTrackbarPos('L - s', 'panel')\n",
    "    u_s = cv2.getTrackbarPos('U - s', 'panel')\n",
    "    l_v = cv2.getTrackbarPos('L - v', 'panel')\n",
    "    u_v = cv2.getTrackbarPos('U - v', 'panel')\n",
    "    \n",
    "    lower_green=np.array([l_h,l_s,l_v])\n",
    "    upper_green=np.array([u_h,u_s,u_v])\n",
    "    \n",
    "    mask=cv2.inRange(hsv,lower_green,upper_green)\n",
    "    mask_inv = cv2.bitwise_not(mask)\n",
    "    \n",
    "    bg = cv2.bitwise_and(frame,frame, mask=mask)\n",
    "    fg = cv2.bitwise_and(frame,frame, mask=mask_inv)\n",
    "    \n",
    "    cv2.imshow('frame', frame)\n",
    "    cv2.imshow('mask', mask)\n",
    "    cv2.imshow('fg', fg)\n",
    "    cv2.imshow('bg', bg)\n",
    "    cv2.imshow('panel', panel)\n",
    "    "
   ]
  },
  {
   "cell_type": "code",
   "execution_count": null,
   "metadata": {},
   "outputs": [],
   "source": []
  }
 ],
 "metadata": {
  "kernelspec": {
   "display_name": "Python 3",
   "language": "python",
   "name": "python3"
  },
  "language_info": {
   "codemirror_mode": {
    "name": "ipython",
    "version": 3
   },
   "file_extension": ".py",
   "mimetype": "text/x-python",
   "name": "python",
   "nbconvert_exporter": "python",
   "pygments_lexer": "ipython3",
   "version": "3.7.6"
  }
 },
 "nbformat": 4,
 "nbformat_minor": 4
}
